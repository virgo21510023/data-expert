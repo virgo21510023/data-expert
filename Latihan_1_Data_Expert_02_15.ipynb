{
  "nbformat": 4,
  "nbformat_minor": 0,
  "metadata": {
    "colab": {
      "provenance": []
    },
    "kernelspec": {
      "name": "python3",
      "display_name": "Python 3"
    },
    "language_info": {
      "name": "python"
    }
  },
  "cells": [
    {
      "cell_type": "code",
      "execution_count": 1,
      "metadata": {
        "colab": {
          "base_uri": "https://localhost:8080/"
        },
        "id": "VHT6SXQCkJY6",
        "outputId": "e4571ccb-89a0-4d60-f762-102e54e6981e"
      },
      "outputs": [
        {
          "output_type": "execute_result",
          "data": {
            "text/plain": [
              "14"
            ]
          },
          "metadata": {},
          "execution_count": 1
        }
      ],
      "source": [
        "2 + 3 + 9"
      ]
    },
    {
      "cell_type": "code",
      "source": [
        "99 - 73"
      ],
      "metadata": {
        "colab": {
          "base_uri": "https://localhost:8080/"
        },
        "id": "iajL1PJvkVzA",
        "outputId": "b428f71f-e452-4690-d3c6-1ecf83a467e7"
      },
      "execution_count": 2,
      "outputs": [
        {
          "output_type": "execute_result",
          "data": {
            "text/plain": [
              "26"
            ]
          },
          "metadata": {},
          "execution_count": 2
        }
      ]
    },
    {
      "cell_type": "code",
      "source": [
        "23.54 * -1432"
      ],
      "metadata": {
        "colab": {
          "base_uri": "https://localhost:8080/"
        },
        "id": "vSxVWNOSknbo",
        "outputId": "2a38d48a-21ab-4571-9b23-fac5bd1ebff2"
      },
      "execution_count": 3,
      "outputs": [
        {
          "output_type": "execute_result",
          "data": {
            "text/plain": [
              "-33709.28"
            ]
          },
          "metadata": {},
          "execution_count": 3
        }
      ]
    },
    {
      "cell_type": "code",
      "source": [
        "100 / 7"
      ],
      "metadata": {
        "colab": {
          "base_uri": "https://localhost:8080/"
        },
        "id": "x5TTD9kXktOd",
        "outputId": "0fb8ef6d-dd38-454d-c195-ce05a87c7923"
      },
      "execution_count": 4,
      "outputs": [
        {
          "output_type": "execute_result",
          "data": {
            "text/plain": [
              "14.285714285714286"
            ]
          },
          "metadata": {},
          "execution_count": 4
        }
      ]
    },
    {
      "cell_type": "code",
      "source": [
        "100 // 7"
      ],
      "metadata": {
        "colab": {
          "base_uri": "https://localhost:8080/"
        },
        "id": "im9VVjuUkwsV",
        "outputId": "048f52a6-7da0-455f-d36d-fd844970d899"
      },
      "execution_count": 5,
      "outputs": [
        {
          "output_type": "execute_result",
          "data": {
            "text/plain": [
              "14"
            ]
          },
          "metadata": {},
          "execution_count": 5
        }
      ]
    },
    {
      "cell_type": "code",
      "source": [
        "100 % 7"
      ],
      "metadata": {
        "colab": {
          "base_uri": "https://localhost:8080/"
        },
        "id": "eWkpnT7Iky2l",
        "outputId": "a1735c8a-bf8d-4a48-d10e-6d83451890be"
      },
      "execution_count": 6,
      "outputs": [
        {
          "output_type": "execute_result",
          "data": {
            "text/plain": [
              "2"
            ]
          },
          "metadata": {},
          "execution_count": 6
        }
      ]
    },
    {
      "cell_type": "code",
      "source": [
        "5 ** 3"
      ],
      "metadata": {
        "colab": {
          "base_uri": "https://localhost:8080/"
        },
        "id": "dl1sJH5ak8SN",
        "outputId": "d85592f7-cd3a-4fdc-a61a-76b9e5810aa2"
      },
      "execution_count": 7,
      "outputs": [
        {
          "output_type": "execute_result",
          "data": {
            "text/plain": [
              "125"
            ]
          },
          "metadata": {},
          "execution_count": 7
        }
      ]
    },
    {
      "cell_type": "code",
      "source": [
        "((2 + 5) * (17 - 3)) / (4 ** 3)"
      ],
      "metadata": {
        "colab": {
          "base_uri": "https://localhost:8080/"
        },
        "id": "TW9it3dxlfhJ",
        "outputId": "a8766ae1-9a56-4c5f-f4c5-349706c177fd"
      },
      "execution_count": 8,
      "outputs": [
        {
          "output_type": "execute_result",
          "data": {
            "text/plain": [
              "1.53125"
            ]
          },
          "metadata": {},
          "execution_count": 8
        }
      ]
    },
    {
      "cell_type": "code",
      "source": [
        "my_favorite_number = 1\n",
        "my_least_favorite_number = 5\n",
        "a_neutral_number = 3"
      ],
      "metadata": {
        "id": "08E0hQ40l5l0"
      },
      "execution_count": 15,
      "outputs": []
    },
    {
      "cell_type": "code",
      "source": [
        "# Equality check - True\n",
        "my_favorite_number == 1"
      ],
      "metadata": {
        "colab": {
          "base_uri": "https://localhost:8080/"
        },
        "id": "7Zkye3hPmGy8",
        "outputId": "1f6b7ff1-1aca-4f7e-88c1-63c9bc54b332"
      },
      "execution_count": 16,
      "outputs": [
        {
          "output_type": "execute_result",
          "data": {
            "text/plain": [
              "True"
            ]
          },
          "metadata": {},
          "execution_count": 16
        }
      ]
    },
    {
      "cell_type": "code",
      "source": [
        "# Equality check - False\n",
        "my_favorite_number == my_least_favorite_number"
      ],
      "metadata": {
        "colab": {
          "base_uri": "https://localhost:8080/"
        },
        "id": "XJefqtCfm9qg",
        "outputId": "7f4a42b7-beaf-431d-d1e0-24bf03a04f34"
      },
      "execution_count": 17,
      "outputs": [
        {
          "output_type": "execute_result",
          "data": {
            "text/plain": [
              "False"
            ]
          },
          "metadata": {},
          "execution_count": 17
        }
      ]
    },
    {
      "cell_type": "code",
      "source": [
        "# Equality check - True\n",
        "my_favorite_number != a_neutral_number"
      ],
      "metadata": {
        "colab": {
          "base_uri": "https://localhost:8080/"
        },
        "id": "pPOCSdHinGZU",
        "outputId": "d450f74b-997f-4680-e197-eeca0a197a05"
      },
      "execution_count": 18,
      "outputs": [
        {
          "output_type": "execute_result",
          "data": {
            "text/plain": [
              "True"
            ]
          },
          "metadata": {},
          "execution_count": 18
        }
      ]
    },
    {
      "cell_type": "code",
      "source": [
        "# Not equal check - False\n",
        "a_neutral_number != 3"
      ],
      "metadata": {
        "colab": {
          "base_uri": "https://localhost:8080/"
        },
        "id": "Pt0jMEHXnStz",
        "outputId": "e527f8b6-701e-4e7b-ae65-6fdf6b13d60e"
      },
      "execution_count": 19,
      "outputs": [
        {
          "output_type": "execute_result",
          "data": {
            "text/plain": [
              "False"
            ]
          },
          "metadata": {},
          "execution_count": 19
        }
      ]
    },
    {
      "cell_type": "code",
      "source": [
        "# Greater than check - True\n",
        "my_least_favorite_number > a_neutral_number"
      ],
      "metadata": {
        "colab": {
          "base_uri": "https://localhost:8080/"
        },
        "id": "sc5Me5Xrnd07",
        "outputId": "b71d4499-0226-4abd-fbc6-67ec7a9ee915"
      },
      "execution_count": 20,
      "outputs": [
        {
          "output_type": "execute_result",
          "data": {
            "text/plain": [
              "True"
            ]
          },
          "metadata": {},
          "execution_count": 20
        }
      ]
    },
    {
      "cell_type": "markdown",
      "source": [
        "**LATIHAN DATA PREPARATION**"
      ],
      "metadata": {
        "id": "P4V5ZDYtr8nD"
      }
    },
    {
      "cell_type": "code",
      "source": [
        "import numpy as np\n",
        "from sklearn import preprocessing\n",
        "\n",
        "sample_data = np.array([[2.1, -1.9, 5.5],\n",
        "                        [-1.5, 2.4, 3.5],\n",
        "                        [0.5, -7.9, 5.6],\n",
        "                        [5.9, 2.3, -5.8]])\n",
        "\n",
        "sample_data"
      ],
      "metadata": {
        "colab": {
          "base_uri": "https://localhost:8080/"
        },
        "id": "rIN-St6osGbB",
        "outputId": "3a044dbe-e709-499e-9eb0-5e488d6edb0a"
      },
      "execution_count": 21,
      "outputs": [
        {
          "output_type": "execute_result",
          "data": {
            "text/plain": [
              "array([[ 2.1, -1.9,  5.5],\n",
              "       [-1.5,  2.4,  3.5],\n",
              "       [ 0.5, -7.9,  5.6],\n",
              "       [ 5.9,  2.3, -5.8]])"
            ]
          },
          "metadata": {},
          "execution_count": 21
        }
      ]
    },
    {
      "cell_type": "code",
      "source": [
        "sample_data.shape"
      ],
      "metadata": {
        "colab": {
          "base_uri": "https://localhost:8080/"
        },
        "id": "M63lMLtesvHn",
        "outputId": "27d056e9-805e-4abe-ad33-4644a8cfc65f"
      },
      "execution_count": 22,
      "outputs": [
        {
          "output_type": "execute_result",
          "data": {
            "text/plain": [
              "(4, 3)"
            ]
          },
          "metadata": {},
          "execution_count": 22
        }
      ]
    },
    {
      "cell_type": "markdown",
      "source": [
        "Teknik Binarisation"
      ],
      "metadata": {
        "id": "EhUNDp_4szr_"
      }
    },
    {
      "cell_type": "code",
      "source": [
        "# parameter yg digunakan untuk ambang batas\n",
        "preprocessor = preprocessing.Binarizer(threshold=0.5)\n",
        "binarised_data = preprocessor.transform(sample_data)\n",
        "binarised_data"
      ],
      "metadata": {
        "colab": {
          "base_uri": "https://localhost:8080/"
        },
        "id": "p3FsxwD8s4YR",
        "outputId": "af965cf8-9f52-4de7-fd14-cc5545418211"
      },
      "execution_count": 23,
      "outputs": [
        {
          "output_type": "execute_result",
          "data": {
            "text/plain": [
              "array([[1., 0., 1.],\n",
              "       [0., 1., 1.],\n",
              "       [0., 0., 1.],\n",
              "       [1., 1., 0.]])"
            ]
          },
          "metadata": {},
          "execution_count": 23
        }
      ]
    },
    {
      "cell_type": "markdown",
      "source": [
        "Teknik Scalling"
      ],
      "metadata": {
        "id": "UoRy1II5tE7W"
      }
    },
    {
      "cell_type": "code",
      "source": [
        "# scalling min max scaller\n",
        "preprocessor = preprocessing.MinMaxScaler(feature_range=(0, 1))\n",
        "preprocessor.fit(sample_data)\n",
        "\n",
        "# cara 1\n",
        "scaled_data = preprocessor.transform(sample_data)\n",
        "scaled_data"
      ],
      "metadata": {
        "colab": {
          "base_uri": "https://localhost:8080/"
        },
        "id": "D0ePVSR9tGSX",
        "outputId": "47add0b1-e017-4f16-b22d-8ad69550e0b5"
      },
      "execution_count": 24,
      "outputs": [
        {
          "output_type": "execute_result",
          "data": {
            "text/plain": [
              "array([[0.48648649, 0.58252427, 0.99122807],\n",
              "       [0.        , 1.        , 0.81578947],\n",
              "       [0.27027027, 0.        , 1.        ],\n",
              "       [1.        , 0.99029126, 0.        ]])"
            ]
          },
          "metadata": {},
          "execution_count": 24
        }
      ]
    },
    {
      "cell_type": "code",
      "source": [
        "scaled_data = preprocessor.fit_transform(sample_data)\n",
        "scaled_data"
      ],
      "metadata": {
        "colab": {
          "base_uri": "https://localhost:8080/"
        },
        "id": "toWpjRVGtneA",
        "outputId": "7de3b6cc-4b3a-43de-b972-bec2c42c7413"
      },
      "execution_count": 25,
      "outputs": [
        {
          "output_type": "execute_result",
          "data": {
            "text/plain": [
              "array([[0.48648649, 0.58252427, 0.99122807],\n",
              "       [0.        , 1.        , 0.81578947],\n",
              "       [0.27027027, 0.        , 1.        ],\n",
              "       [1.        , 0.99029126, 0.        ]])"
            ]
          },
          "metadata": {},
          "execution_count": 25
        }
      ]
    },
    {
      "cell_type": "markdown",
      "source": [
        "Teknik Normalization L1"
      ],
      "metadata": {
        "id": "zHAUO2QyuBGW"
      }
    },
    {
      "cell_type": "code",
      "source": [
        "li_normalizer = preprocessing.Normalizer(norm='l1')\n",
        "li_normalizer.fit(sample_data)\n",
        "l1_normalized_data = li_normalizer.transform(sample_data)\n",
        "l1_normalized_data"
      ],
      "metadata": {
        "colab": {
          "base_uri": "https://localhost:8080/"
        },
        "id": "PHNeDNKkuDII",
        "outputId": "d0beb5dc-6706-4f1d-e0d5-722f94b6b516"
      },
      "execution_count": 26,
      "outputs": [
        {
          "output_type": "execute_result",
          "data": {
            "text/plain": [
              "array([[ 0.22105263, -0.2       ,  0.57894737],\n",
              "       [-0.2027027 ,  0.32432432,  0.47297297],\n",
              "       [ 0.03571429, -0.56428571,  0.4       ],\n",
              "       [ 0.42142857,  0.16428571, -0.41428571]])"
            ]
          },
          "metadata": {},
          "execution_count": 26
        }
      ]
    },
    {
      "cell_type": "markdown",
      "source": [
        "Teknik Normalization L2"
      ],
      "metadata": {
        "id": "1WRkefRZufme"
      }
    },
    {
      "cell_type": "code",
      "source": [
        "li_normalized_data = preprocessing.Normalizer(norm='l2')\n",
        "li_normalized_data.fit(sample_data)\n",
        "l2_normalized_data = li_normalized_data.transform(sample_data)\n",
        "l2_normalized_data"
      ],
      "metadata": {
        "colab": {
          "base_uri": "https://localhost:8080/"
        },
        "id": "Gh7KXxu8ukvP",
        "outputId": "b5b9d220-004e-420f-9fa5-3d7f283651b6"
      },
      "execution_count": 27,
      "outputs": [
        {
          "output_type": "execute_result",
          "data": {
            "text/plain": [
              "array([[ 0.33946114, -0.30713151,  0.88906489],\n",
              "       [-0.33325106,  0.53320169,  0.7775858 ],\n",
              "       [ 0.05156558, -0.81473612,  0.57753446],\n",
              "       [ 0.68706914,  0.26784051, -0.6754239 ]])"
            ]
          },
          "metadata": {},
          "execution_count": 27
        }
      ]
    },
    {
      "cell_type": "markdown",
      "source": [
        "Encoding"
      ],
      "metadata": {
        "id": "j_yQRyH8vEJW"
      }
    },
    {
      "cell_type": "code",
      "source": [
        "label_kategori_hari = ['senin', 'selasa', 'rabu', 'kamis', 'jumat', 'sabtu', 'minggu']\n",
        "encoder = preprocessing.LabelEncoder()\n",
        "encoder.fit(label_kategori_hari)\n",
        "\n",
        "print(\"\\nLabel mapping:\")\n",
        "for i, item in enumerate(encoder.classes_):\n",
        "  print(item, '-->', i)"
      ],
      "metadata": {
        "colab": {
          "base_uri": "https://localhost:8080/"
        },
        "id": "qrLQOXvnvFU4",
        "outputId": "d47cc1a4-a985-48ba-bc5f-6448d1235d8b"
      },
      "execution_count": 33,
      "outputs": [
        {
          "output_type": "stream",
          "name": "stdout",
          "text": [
            "\n",
            "Label mapping:\n",
            "jumat --> 0\n",
            "kamis --> 1\n",
            "minggu --> 2\n",
            "rabu --> 3\n",
            "sabtu --> 4\n",
            "selasa --> 5\n",
            "senin --> 6\n"
          ]
        }
      ]
    }
  ]
}